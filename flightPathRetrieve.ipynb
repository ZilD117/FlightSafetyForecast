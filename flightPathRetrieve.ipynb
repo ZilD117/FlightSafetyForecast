{
 "cells": [
  {
   "cell_type": "code",
   "execution_count": 11,
   "metadata": {},
   "outputs": [],
   "source": [
    "import requests\n",
    "import numpy as ncep\n",
    "import pandas as pd"
   ]
  },
  {
   "cell_type": "markdown",
   "metadata": {},
   "source": [
    "API key for flightPlanDataBase:   \n",
    "8Pj8klqL2zgJE8VDrkQQqZ46VhbA2oAA0FxkYSqK"
   ]
  },
  {
   "cell_type": "code",
   "execution_count": 91,
   "metadata": {},
   "outputs": [
    {
     "name": "stdout",
     "output_type": "stream",
     "text": [
      "{\"message\":\"Bad Request\",\"errors\":[{\"param\":\"id\",\"message\":\"Invalid id\"}]}\n"
     ]
    },
    {
     "name": "stderr",
     "output_type": "stream",
     "text": [
      "  % Total    % Received % Xferd  Average Speed   Time    Time     Time  Current\n",
      "                                 Dload  Upload   Total   Spent    Left  Speed\n",
      "\n",
      "  0     0    0     0    0     0      0      0 --:--:-- --:--:-- --:--:--     0\n",
      "100    74  100    74    0     0    172      0 --:--:-- --:--:-- --:--:--   173\n"
     ]
    }
   ],
   "source": [
    "!curl  https://api.flightplandatabase.com/plan/DAL4032"
   ]
  },
  {
   "cell_type": "code",
   "execution_count": 93,
   "metadata": {},
   "outputs": [
    {
     "name": "stdout",
     "output_type": "stream",
     "text": [
      "{\"message\":\"Unauthorized\",\"errors\":null}\n"
     ]
    },
    {
     "name": "stderr",
     "output_type": "stream",
     "text": [
      "  % Total    % Received % Xferd  Average Speed   Time    Time     Time  Current\n",
      "                                 Dload  Upload   Total   Spent    Left  Speed\n",
      "\n",
      "  0     0    0     0    0     0      0      0 --:--:-- --:--:-- --:--:--     0\n",
      "100    40  100    40    0     0     81      0 --:--:-- --:--:-- --:--:--    81\n"
     ]
    }
   ],
   "source": [
    "!curl -X POST https://api.flightplandatabase.com/plan"
   ]
  },
  {
   "cell_type": "code",
   "execution_count": 94,
   "metadata": {},
   "outputs": [
    {
     "name": "stdout",
     "output_type": "stream",
     "text": [
      "HTTP/1.1 500 Internal Server Error\n",
      "Server: nginx\n",
      "Date: Mon, 29 Jan 2024 04:17:40 GMT\n",
      "Content-Type: application/json; charset=utf-8\n",
      "Content-Length: 49\n",
      "Connection: keep-alive\n",
      "Vary: Origin, Accept\n",
      "Access-Control-Expose-Headers: X-API-Version,X-Units,X-Limit-Cap,X-Limit-Used,X-Page-Count,X-Page-Current,X-Page-PerPage,X-Item-Count,X-Sort,Links\n",
      "X-Units: AVIATION\n",
      "X-Limit-By: APPLICATION\n",
      "X-Limit-Cap: 1500\n",
      "X-Limit-Used: 1\n",
      "\n",
      "{\"message\":\"Internal Server Error\",\"errors\":null}\n"
     ]
    },
    {
     "name": "stderr",
     "output_type": "stream",
     "text": [
      "  % Total    % Received % Xferd  Average Speed   Time    Time     Time  Current\n",
      "                                 Dload  Upload   Total   Spent    Left  Speed\n",
      "\n",
      "  0     0    0     0    0     0      0      0 --:--:-- --:--:-- --:--:--     0\n",
      "  0     0    0     0    0     0      0      0 --:--:-- --:--:-- --:--:--     0\n",
      "100   320  100    49  100   271     82    453 --:--:-- --:--:-- --:--:--   536\n"
     ]
    }
   ],
   "source": [
    "!curl -u 8Pj8klqL2zgJE8VDrkQQqZ46VhbA2oAA0FxkYSqK: -i -H \"Content-Type: application/json\" -X POST -d '{\"fromICAO\":\"EHAM\",\"toICAO\":\"KJFK\",\"fromName\":\"Schiphol\",\"toName\":\"John F Kennedy Intl\",\"tags\":[\"atlantic\"],\"route\":{\"nodes\":[{\"ident\":\"EHAM\",\"type\":\"APT\",\"lat\":52.31485,\"lon\":4.75812,\"alt\":0,\"name\":\"Schiphol\",\"via\":null},{\"ident\":\"KJFK\",\"type\":\"APT\",\"lat\":40.63990,\"lon\":-73.77666,\"alt\":0,\"name\":\"John F Kennedy Intl\",\"via\":null}]}}' https://api.flightplandatabase.com/plan"
   ]
  },
  {
   "cell_type": "code",
   "execution_count": 60,
   "metadata": {},
   "outputs": [],
   "source": [
    "pd.set_option('display.max_colwidth', 200)\n",
    "df = pd.read_csv(\"https://www.fly.faa.gov/rmt/data_file/prefroutes_db.csv\")\n"
   ]
  },
  {
   "cell_type": "code",
   "execution_count": 61,
   "metadata": {},
   "outputs": [],
   "source": [
    "depart = 'BNA'\n",
    "destination = 'JFK'\n",
    "\n"
   ]
  },
  {
   "cell_type": "code",
   "execution_count": 62,
   "metadata": {},
   "outputs": [
    {
     "data": {
      "text/html": [
       "<div>\n",
       "<style scoped>\n",
       "    .dataframe tbody tr th:only-of-type {\n",
       "        vertical-align: middle;\n",
       "    }\n",
       "\n",
       "    .dataframe tbody tr th {\n",
       "        vertical-align: top;\n",
       "    }\n",
       "\n",
       "    .dataframe thead th {\n",
       "        text-align: right;\n",
       "    }\n",
       "</style>\n",
       "<table border=\"1\" class=\"dataframe\">\n",
       "  <thead>\n",
       "    <tr style=\"text-align: right;\">\n",
       "      <th></th>\n",
       "      <th>Orig</th>\n",
       "      <th>Route String</th>\n",
       "      <th>Dest</th>\n",
       "      <th>Hours1</th>\n",
       "      <th>Hours2</th>\n",
       "      <th>Hours3</th>\n",
       "      <th>Type</th>\n",
       "      <th>Area</th>\n",
       "      <th>Altitude</th>\n",
       "      <th>Aircraft</th>\n",
       "      <th>Direction</th>\n",
       "      <th>Seq</th>\n",
       "      <th>DCNTR</th>\n",
       "      <th>ACNTR</th>\n",
       "    </tr>\n",
       "  </thead>\n",
       "  <tbody>\n",
       "    <tr>\n",
       "      <th>0</th>\n",
       "      <td>ABE</td>\n",
       "      <td>ABE FJC ARD CYN ACY</td>\n",
       "      <td>ACY</td>\n",
       "      <td>NaN</td>\n",
       "      <td>NaN</td>\n",
       "      <td>NaN</td>\n",
       "      <td>TEC</td>\n",
       "      <td>NaN</td>\n",
       "      <td>5000</td>\n",
       "      <td>NaN</td>\n",
       "      <td>NaN</td>\n",
       "      <td>1</td>\n",
       "      <td>ZNY</td>\n",
       "      <td>ZDC</td>\n",
       "    </tr>\n",
       "    <tr>\n",
       "      <th>1</th>\n",
       "      <td>ABE</td>\n",
       "      <td>ABE FJC LAAYK ALB</td>\n",
       "      <td>ALB</td>\n",
       "      <td>NaN</td>\n",
       "      <td>NaN</td>\n",
       "      <td>NaN</td>\n",
       "      <td>TEC</td>\n",
       "      <td>NaN</td>\n",
       "      <td>7000</td>\n",
       "      <td>NaN</td>\n",
       "      <td>NaN</td>\n",
       "      <td>1</td>\n",
       "      <td>ZNY</td>\n",
       "      <td>ZBW</td>\n",
       "    </tr>\n",
       "    <tr>\n",
       "      <th>2</th>\n",
       "      <td>ABE</td>\n",
       "      <td>ABE FJC LVZ AVP</td>\n",
       "      <td>AVP</td>\n",
       "      <td>NaN</td>\n",
       "      <td>NaN</td>\n",
       "      <td>NaN</td>\n",
       "      <td>TEC</td>\n",
       "      <td>NaN</td>\n",
       "      <td>7000</td>\n",
       "      <td>NaN</td>\n",
       "      <td>NaN</td>\n",
       "      <td>2</td>\n",
       "      <td>ZNY</td>\n",
       "      <td>ZNY</td>\n",
       "    </tr>\n",
       "    <tr>\n",
       "      <th>3</th>\n",
       "      <td>ABE</td>\n",
       "      <td>ABE FJC T299 HUO IGN PWL BRISS BDL</td>\n",
       "      <td>BDL</td>\n",
       "      <td>NaN</td>\n",
       "      <td>NaN</td>\n",
       "      <td>NaN</td>\n",
       "      <td>TEC</td>\n",
       "      <td>NaN</td>\n",
       "      <td>5000</td>\n",
       "      <td>NaN</td>\n",
       "      <td>NaN</td>\n",
       "      <td>1</td>\n",
       "      <td>ZNY</td>\n",
       "      <td>ZBW</td>\n",
       "    </tr>\n",
       "    <tr>\n",
       "      <th>4</th>\n",
       "      <td>ABE</td>\n",
       "      <td>ABE ETX V39 LRP T449 KITHE BWI</td>\n",
       "      <td>BWI</td>\n",
       "      <td>NaN</td>\n",
       "      <td>NaN</td>\n",
       "      <td>NaN</td>\n",
       "      <td>TEC</td>\n",
       "      <td>NaN</td>\n",
       "      <td>8000</td>\n",
       "      <td>NaN</td>\n",
       "      <td>NaN</td>\n",
       "      <td>3</td>\n",
       "      <td>ZNY</td>\n",
       "      <td>ZDC</td>\n",
       "    </tr>\n",
       "    <tr>\n",
       "      <th>...</th>\n",
       "      <td>...</td>\n",
       "      <td>...</td>\n",
       "      <td>...</td>\n",
       "      <td>...</td>\n",
       "      <td>...</td>\n",
       "      <td>...</td>\n",
       "      <td>...</td>\n",
       "      <td>...</td>\n",
       "      <td>...</td>\n",
       "      <td>...</td>\n",
       "      <td>...</td>\n",
       "      <td>...</td>\n",
       "      <td>...</td>\n",
       "      <td>...</td>\n",
       "    </tr>\n",
       "    <tr>\n",
       "      <th>11531</th>\n",
       "      <td>ZSU</td>\n",
       "      <td>ZSU SAPPO Y280 SUMAC ISAAC MAHHI3 PBI</td>\n",
       "      <td>PBI</td>\n",
       "      <td>NaN</td>\n",
       "      <td>NaN</td>\n",
       "      <td>NaN</td>\n",
       "      <td>SHD</td>\n",
       "      <td>TRAFFIC ARRIVING WEST PALM BEACH METRO ORIGINATING SAN JUAN AREA</td>\n",
       "      <td>NaN</td>\n",
       "      <td>NaN</td>\n",
       "      <td>NORTHBOUND</td>\n",
       "      <td>2</td>\n",
       "      <td>NaN</td>\n",
       "      <td>ZMA</td>\n",
       "    </tr>\n",
       "    <tr>\n",
       "      <th>11532</th>\n",
       "      <td>ZVR</td>\n",
       "      <td>ZVR YYJ MARNR7 SEA</td>\n",
       "      <td>SEA</td>\n",
       "      <td>NaN</td>\n",
       "      <td>NaN</td>\n",
       "      <td>NaN</td>\n",
       "      <td>SHD</td>\n",
       "      <td>TRAFFIC ARR SEA FROM NW OVERFLYING VANCOUVER ACC FILE YYJ OR TOU TRANSITION</td>\n",
       "      <td>NaN</td>\n",
       "      <td>RNAV EQUIPPED</td>\n",
       "      <td>NORTHWEST</td>\n",
       "      <td>1</td>\n",
       "      <td>NaN</td>\n",
       "      <td>ZSE</td>\n",
       "    </tr>\n",
       "    <tr>\n",
       "      <th>11533</th>\n",
       "      <td>ZVR</td>\n",
       "      <td>ZVR YYJ JAWBN6 SEA</td>\n",
       "      <td>SEA</td>\n",
       "      <td>NaN</td>\n",
       "      <td>NaN</td>\n",
       "      <td>NaN</td>\n",
       "      <td>SHD</td>\n",
       "      <td>TRAFFIC ARR SEA FROM NW OVERFLYING VANCOUVER ACC FILE YYJ OR TOU TRANSITION</td>\n",
       "      <td>NaN</td>\n",
       "      <td>NON-RNAV EQUIPPED</td>\n",
       "      <td>NORTHWEST</td>\n",
       "      <td>2</td>\n",
       "      <td>NaN</td>\n",
       "      <td>ZSE</td>\n",
       "    </tr>\n",
       "    <tr>\n",
       "      <th>11534</th>\n",
       "      <td>ZVR</td>\n",
       "      <td>ZVR TOU MARNR7 SEA</td>\n",
       "      <td>SEA</td>\n",
       "      <td>NaN</td>\n",
       "      <td>NaN</td>\n",
       "      <td>NaN</td>\n",
       "      <td>SHD</td>\n",
       "      <td>TRAFFIC ARR SEA FROM NW OVERFLYING VANCOUVER ACC FILE YYJ OR TOU TRANSITION</td>\n",
       "      <td>NaN</td>\n",
       "      <td>RNAV EQUIPPED</td>\n",
       "      <td>NORTHWEST</td>\n",
       "      <td>3</td>\n",
       "      <td>NaN</td>\n",
       "      <td>ZSE</td>\n",
       "    </tr>\n",
       "    <tr>\n",
       "      <th>11535</th>\n",
       "      <td>ZVR</td>\n",
       "      <td>ZVR TOU JAWBN6 SEA</td>\n",
       "      <td>SEA</td>\n",
       "      <td>NaN</td>\n",
       "      <td>NaN</td>\n",
       "      <td>NaN</td>\n",
       "      <td>SHD</td>\n",
       "      <td>TRAFFIC ARR SEA FROM NW OVERFLYING VANCOUVER ACC FILE YYJ OR TOU TRANSITION</td>\n",
       "      <td>NaN</td>\n",
       "      <td>NON-RNAV EQUIPPED</td>\n",
       "      <td>NORTHWEST</td>\n",
       "      <td>4</td>\n",
       "      <td>NaN</td>\n",
       "      <td>ZSE</td>\n",
       "    </tr>\n",
       "  </tbody>\n",
       "</table>\n",
       "<p>11536 rows × 14 columns</p>\n",
       "</div>"
      ],
      "text/plain": [
       "      Orig                           Route String Dest Hours1  Hours2  Hours3  \\\n",
       "0      ABE                    ABE FJC ARD CYN ACY  ACY    NaN     NaN     NaN   \n",
       "1      ABE                      ABE FJC LAAYK ALB  ALB    NaN     NaN     NaN   \n",
       "2      ABE                        ABE FJC LVZ AVP  AVP    NaN     NaN     NaN   \n",
       "3      ABE     ABE FJC T299 HUO IGN PWL BRISS BDL  BDL    NaN     NaN     NaN   \n",
       "4      ABE         ABE ETX V39 LRP T449 KITHE BWI  BWI    NaN     NaN     NaN   \n",
       "...    ...                                    ...  ...    ...     ...     ...   \n",
       "11531  ZSU  ZSU SAPPO Y280 SUMAC ISAAC MAHHI3 PBI  PBI    NaN     NaN     NaN   \n",
       "11532  ZVR                     ZVR YYJ MARNR7 SEA  SEA    NaN     NaN     NaN   \n",
       "11533  ZVR                     ZVR YYJ JAWBN6 SEA  SEA    NaN     NaN     NaN   \n",
       "11534  ZVR                     ZVR TOU MARNR7 SEA  SEA    NaN     NaN     NaN   \n",
       "11535  ZVR                     ZVR TOU JAWBN6 SEA  SEA    NaN     NaN     NaN   \n",
       "\n",
       "      Type  \\\n",
       "0      TEC   \n",
       "1      TEC   \n",
       "2      TEC   \n",
       "3      TEC   \n",
       "4      TEC   \n",
       "...    ...   \n",
       "11531  SHD   \n",
       "11532  SHD   \n",
       "11533  SHD   \n",
       "11534  SHD   \n",
       "11535  SHD   \n",
       "\n",
       "                                                                              Area  \\\n",
       "0                                                                              NaN   \n",
       "1                                                                              NaN   \n",
       "2                                                                              NaN   \n",
       "3                                                                              NaN   \n",
       "4                                                                              NaN   \n",
       "...                                                                            ...   \n",
       "11531             TRAFFIC ARRIVING WEST PALM BEACH METRO ORIGINATING SAN JUAN AREA   \n",
       "11532  TRAFFIC ARR SEA FROM NW OVERFLYING VANCOUVER ACC FILE YYJ OR TOU TRANSITION   \n",
       "11533  TRAFFIC ARR SEA FROM NW OVERFLYING VANCOUVER ACC FILE YYJ OR TOU TRANSITION   \n",
       "11534  TRAFFIC ARR SEA FROM NW OVERFLYING VANCOUVER ACC FILE YYJ OR TOU TRANSITION   \n",
       "11535  TRAFFIC ARR SEA FROM NW OVERFLYING VANCOUVER ACC FILE YYJ OR TOU TRANSITION   \n",
       "\n",
       "      Altitude           Aircraft   Direction  Seq DCNTR ACNTR  \n",
       "0         5000                NaN         NaN    1   ZNY   ZDC  \n",
       "1         7000                NaN         NaN    1   ZNY   ZBW  \n",
       "2         7000                NaN         NaN    2   ZNY   ZNY  \n",
       "3         5000                NaN         NaN    1   ZNY   ZBW  \n",
       "4         8000                NaN         NaN    3   ZNY   ZDC  \n",
       "...        ...                ...         ...  ...   ...   ...  \n",
       "11531      NaN                NaN  NORTHBOUND    2   NaN   ZMA  \n",
       "11532      NaN      RNAV EQUIPPED   NORTHWEST    1   NaN   ZSE  \n",
       "11533      NaN  NON-RNAV EQUIPPED   NORTHWEST    2   NaN   ZSE  \n",
       "11534      NaN      RNAV EQUIPPED   NORTHWEST    3   NaN   ZSE  \n",
       "11535      NaN  NON-RNAV EQUIPPED   NORTHWEST    4   NaN   ZSE  \n",
       "\n",
       "[11536 rows x 14 columns]"
      ]
     },
     "execution_count": 62,
     "metadata": {},
     "output_type": "execute_result"
    }
   ],
   "source": [
    "df"
   ]
  },
  {
   "cell_type": "code",
   "execution_count": 63,
   "metadata": {},
   "outputs": [],
   "source": [
    "df_s1 = df[df['Orig']==depart]"
   ]
  },
  {
   "cell_type": "code",
   "execution_count": 74,
   "metadata": {},
   "outputs": [],
   "source": [
    "df_s2 = df_s1[df_s1['Dest']==destination]"
   ]
  },
  {
   "cell_type": "code",
   "execution_count": 87,
   "metadata": {},
   "outputs": [],
   "source": [
    "route = df_s2['Route String'].iloc[0]"
   ]
  },
  {
   "cell_type": "code",
   "execution_count": 88,
   "metadata": {},
   "outputs": [
    {
     "data": {
      "text/plain": [
       "'BNA TAZMO3 BURME VXV IDDAA Q64 SAWED Q97 DLAAY RADDS SIE CAMRN4 JFK'"
      ]
     },
     "execution_count": 88,
     "metadata": {},
     "output_type": "execute_result"
    }
   ],
   "source": [
    "route"
   ]
  },
  {
   "cell_type": "code",
   "execution_count": 68,
   "metadata": {},
   "outputs": [
    {
     "name": "stdout",
     "output_type": "stream",
     "text": [
      "KJFK\n"
     ]
    },
    {
     "name": "stderr",
     "output_type": "stream",
     "text": [
      "  % Total    % Received % Xferd  Average Speed   Time    Time     Time  Current\n",
      "                                 Dload  Upload   Total   Spent    Left  Speed\n",
      "\n",
      "  0     0    0     0    0     0      0      0 --:--:-- --:--:-- --:--:--     0\n",
      "100     4    0     4    0     0      7      0 --:--:-- --:--:-- --:--:--     7\n"
     ]
    }
   ],
   "source": [
    "# Converting IATA code to ICAO code.\n",
    "\n",
    "!curl https://hexdb.io/iata-icao?iata=JFK"
   ]
  },
  {
   "cell_type": "code",
   "execution_count": 3,
   "metadata": {},
   "outputs": [
    {
     "name": "stdout",
     "output_type": "stream",
     "text": [
      "{\"airport\":\"Nashville International Airport\",\"country_code\":\"US\",\"iata\":\"BNA\",\"icao\":\"KBNA\",\"latitude\":36.1245,\"longitude\":-86.6782,\"region_name\":\"Tennessee\"}\n"
     ]
    },
    {
     "name": "stderr",
     "output_type": "stream",
     "text": [
      "  % Total    % Received % Xferd  Average Speed   Time    Time     Time  Current\n",
      "                                 Dload  Upload   Total   Spent    Left  Speed\n",
      "\n",
      "  0     0    0     0    0     0      0      0 --:--:-- --:--:-- --:--:--     0\n",
      "100   159  100   159    0     0    363      0 --:--:-- --:--:-- --:--:--   364\n",
      "100   159  100   159    0     0    363      0 --:--:-- --:--:-- --:--:--   364\n"
     ]
    }
   ],
   "source": [
    "# getting info of airport\n",
    "!curl  https://hexdb.io/api/v1/airport/icao/KBNA"
   ]
  },
  {
   "cell_type": "code",
   "execution_count": 8,
   "metadata": {},
   "outputs": [
    {
     "name": "stdout",
     "output_type": "stream",
     "text": [
      "response {'flightroute': {'callsign': 'DAL4988', 'callsign_icao': 'DAL4988', 'callsign_iata': 'DL4988', 'airline': {'name': 'Delta Air Lines', 'icao': 'DAL', 'iata': 'DL', 'country': 'United States', 'country_iso': 'US', 'callsign': 'DELTA'}, 'origin': {'country_iso_name': 'US', 'country_name': 'United States', 'elevation': 13, 'iata_code': 'JFK', 'icao_code': 'KJFK', 'latitude': 40.639801, 'longitude': -73.7789, 'municipality': 'New York', 'name': 'John F Kennedy International Airport'}, 'destination': {'country_iso_name': 'US', 'country_name': 'United States', 'elevation': 599, 'iata_code': 'BNA', 'icao_code': 'KBNA', 'latitude': 36.1245002746582, 'longitude': -86.6781997680664, 'municipality': 'Nashville', 'name': 'Nashville International Airport'}}}\n"
     ]
    }
   ],
   "source": [
    "# Initial url testing\n",
    "\n",
    "headers = {'User-Agent': 'Mozilla/5.0 (X11; Ubuntu; Linux x86_64; rv:109.0) Gecko/20100101 Firefox/114.0'}\n",
    "\n",
    "call_sign = 'DAL4988'\n",
    "url = \"https://api.adsbdb.com/v0/callsign/{}\".format(call_sign)\n",
    " \n",
    "\n",
    "try:\n",
    "    r = requests.get(url,headers=headers)\n",
    "    data = r.json()\n",
    "    for k,v in data.items():\n",
    "        print(k,v)\n",
    "    \n",
    "    \n",
    "except ConnectionError:\n",
    "    print(\"Connection Error\")\n"
   ]
  },
  {
   "cell_type": "code",
   "execution_count": 10,
   "metadata": {},
   "outputs": [
    {
     "data": {
      "text/plain": [
       "{'response': {'flightroute': {'callsign': 'DAL4988',\n",
       "   'callsign_icao': 'DAL4988',\n",
       "   'callsign_iata': 'DL4988',\n",
       "   'airline': {'name': 'Delta Air Lines',\n",
       "    'icao': 'DAL',\n",
       "    'iata': 'DL',\n",
       "    'country': 'United States',\n",
       "    'country_iso': 'US',\n",
       "    'callsign': 'DELTA'},\n",
       "   'origin': {'country_iso_name': 'US',\n",
       "    'country_name': 'United States',\n",
       "    'elevation': 13,\n",
       "    'iata_code': 'JFK',\n",
       "    'icao_code': 'KJFK',\n",
       "    'latitude': 40.639801,\n",
       "    'longitude': -73.7789,\n",
       "    'municipality': 'New York',\n",
       "    'name': 'John F Kennedy International Airport'},\n",
       "   'destination': {'country_iso_name': 'US',\n",
       "    'country_name': 'United States',\n",
       "    'elevation': 599,\n",
       "    'iata_code': 'BNA',\n",
       "    'icao_code': 'KBNA',\n",
       "    'latitude': 36.1245002746582,\n",
       "    'longitude': -86.6781997680664,\n",
       "    'municipality': 'Nashville',\n",
       "    'name': 'Nashville International Airport'}}}}"
      ]
     },
     "execution_count": 10,
     "metadata": {},
     "output_type": "execute_result"
    }
   ],
   "source": [
    "data"
   ]
  },
  {
   "cell_type": "code",
   "execution_count": 9,
   "metadata": {},
   "outputs": [
    {
     "name": "stdout",
     "output_type": "stream",
     "text": [
      "{\"response\":{\"flightroute\":{\"callsign\":\"DAL773\",\"callsign_icao\":\"DAL773\",\"callsign_iata\":\"DL773\",\"airline\":{\"name\":\"Delta Air Lines\",\"icao\":\"DAL\",\"iata\":\"DL\",\"country\":\"United States\",\"country_iso\":\"US\",\"callsign\":\"DELTA\"},\"origin\":{\"country_iso_name\":\"US\",\"country_name\":\"United States\",\"elevation\":645,\"iata_code\":\"DTW\",\"icao_code\":\"KDTW\",\"latitude\":42.212398529052734,\"longitude\":-83.35340118408203,\"municipality\":\"Detroit\",\"name\":\"Detroit Metropolitan Wayne County Airport\"},\"destination\":{\"country_iso_name\":\"US\",\"country_name\":\"United States\",\"elevation\":1135,\"iata_code\":\"PHX\",\"icao_code\":\"KPHX\",\"latitude\":33.435302,\"longitude\":-112.005905,\"municipality\":\"Phoenix\",\"name\":\"Phoenix Sky Harbor International Airport\"}}}}\n"
     ]
    },
    {
     "name": "stderr",
     "output_type": "stream",
     "text": [
      "  % Total    % Received % Xferd  Average Speed   Time    Time     Time  Current\n",
      "                                 Dload  Upload   Total   Spent    Left  Speed\n",
      "\n",
      "  0     0    0     0    0     0      0      0 --:--:-- --:--:-- --:--:--     0\n",
      "100   726  100   726    0     0   1768      0 --:--:-- --:--:-- --:--:--  1775\n"
     ]
    }
   ],
   "source": [
    "!curl https://api.adsbdb.com/v0/callsign/DAL773"
   ]
  }
 ],
 "metadata": {
  "kernelspec": {
   "display_name": "test",
   "language": "python",
   "name": "python3"
  },
  "language_info": {
   "codemirror_mode": {
    "name": "ipython",
    "version": 3
   },
   "file_extension": ".py",
   "mimetype": "text/x-python",
   "name": "python",
   "nbconvert_exporter": "python",
   "pygments_lexer": "ipython3",
   "version": "3.10.13"
  }
 },
 "nbformat": 4,
 "nbformat_minor": 2
}
