{
 "cells": [
  {
   "cell_type": "code",
   "execution_count": 7,
   "metadata": {},
   "outputs": [],
   "source": [
    "import requests\n",
    "import os\n",
    "from datetime import datetime\n",
    "import numpy as numpy"
   ]
  },
  {
   "cell_type": "code",
   "execution_count": 6,
   "metadata": {},
   "outputs": [
    {
     "name": "stdout",
     "output_type": "stream",
     "text": [
      "@context ['https://geojson.org/geojson-ld/geojson-context.jsonld', {'@version': '1.1', 'wx': 'https://api.weather.gov/ontology#', 's': 'https://schema.org/', 'geo': 'http://www.opengis.net/ont/geosparql#', 'unit': 'http://codes.wmo.int/common/unit/', '@vocab': 'https://api.weather.gov/ontology#', 'geometry': {'@id': 's:GeoCoordinates', '@type': 'geo:wktLiteral'}, 'city': 's:addressLocality', 'state': 's:addressRegion', 'distance': {'@id': 's:Distance', '@type': 's:QuantitativeValue'}, 'bearing': {'@type': 's:QuantitativeValue'}, 'value': {'@id': 's:value'}, 'unitCode': {'@id': 's:unitCode', '@type': '@id'}, 'forecastOffice': {'@type': '@id'}, 'forecastGridData': {'@type': '@id'}, 'publicZone': {'@type': '@id'}, 'county': {'@type': '@id'}}]\n",
      "id https://api.weather.gov/points/38.8894,-77\n",
      "type Feature\n",
      "geometry {'type': 'Point', 'coordinates': [-77, 38.8894]}\n",
      "properties {'@id': 'https://api.weather.gov/points/38.8894,-77', '@type': 'wx:Point', 'cwa': 'LWX', 'forecastOffice': 'https://api.weather.gov/offices/LWX', 'gridId': 'LWX', 'gridX': 98, 'gridY': 71, 'forecast': 'https://api.weather.gov/gridpoints/LWX/98,71/forecast', 'forecastHourly': 'https://api.weather.gov/gridpoints/LWX/98,71/forecast/hourly', 'forecastGridData': 'https://api.weather.gov/gridpoints/LWX/98,71', 'observationStations': 'https://api.weather.gov/gridpoints/LWX/98,71/stations', 'relativeLocation': {'type': 'Feature', 'geometry': {'type': 'Point', 'coordinates': [-77.017229, 38.904103]}, 'properties': {'city': 'Washington', 'state': 'DC', 'distance': {'unitCode': 'wmoUnit:m', 'value': 2212.6942620837}, 'bearing': {'unitCode': 'wmoUnit:degree_(angle)', 'value': 137}}}, 'forecastZone': 'https://api.weather.gov/zones/forecast/DCZ001', 'county': 'https://api.weather.gov/zones/county/DCC001', 'fireWeatherZone': 'https://api.weather.gov/zones/fire/DCZ001', 'timeZone': 'America/New_York', 'radarStation': 'KLWX'}\n",
      "@context ['https://geojson.org/geojson-ld/geojson-context.jsonld', {'@version': '1.1', 'wx': 'https://api.weather.gov/ontology#', 'geo': 'http://www.opengis.net/ont/geosparql#', 'unit': 'http://codes.wmo.int/common/unit/', '@vocab': 'https://api.weather.gov/ontology#'}]\n",
      "type Feature\n",
      "geometry {'type': 'Polygon', 'coordinates': [[[-77.008791, 38.8978612], [-77.0125553, 38.8759089], [-76.9843609, 38.8729771], [-76.9805908, 38.894929], [-77.008791, 38.8978612]]]}\n",
      "properties {'updated': '2024-01-02T23:30:01+00:00', 'units': 'us', 'forecastGenerator': 'BaselineForecastGenerator', 'generatedAt': '2024-01-03T01:25:04+00:00', 'updateTime': '2024-01-02T23:30:01+00:00', 'validTimes': '2024-01-02T17:00:00+00:00/P7DT8H', 'elevation': {'unitCode': 'wmoUnit:m', 'value': 15.8496}, 'periods': [{'number': 1, 'name': 'Tonight', 'startTime': '2024-01-02T20:00:00-05:00', 'endTime': '2024-01-03T06:00:00-05:00', 'isDaytime': False, 'temperature': 34, 'temperatureUnit': 'F', 'temperatureTrend': None, 'probabilityOfPrecipitation': {'unitCode': 'wmoUnit:percent', 'value': None}, 'dewpoint': {'unitCode': 'wmoUnit:degC', 'value': -2.7777777777777777}, 'relativeHumidity': {'unitCode': 'wmoUnit:percent', 'value': 72}, 'windSpeed': '5 mph', 'windDirection': 'W', 'icon': 'https://api.weather.gov/icons/land/night/sct?size=medium', 'shortForecast': 'Partly Cloudy', 'detailedForecast': 'Partly cloudy, with a low around 34. West wind around 5 mph.'}, {'number': 2, 'name': 'Wednesday', 'startTime': '2024-01-03T06:00:00-05:00', 'endTime': '2024-01-03T18:00:00-05:00', 'isDaytime': True, 'temperature': 47, 'temperatureUnit': 'F', 'temperatureTrend': None, 'probabilityOfPrecipitation': {'unitCode': 'wmoUnit:percent', 'value': None}, 'dewpoint': {'unitCode': 'wmoUnit:degC', 'value': -1.6666666666666667}, 'relativeHumidity': {'unitCode': 'wmoUnit:percent', 'value': 72}, 'windSpeed': '5 mph', 'windDirection': 'W', 'icon': 'https://api.weather.gov/icons/land/day/bkn?size=medium', 'shortForecast': 'Partly Sunny', 'detailedForecast': 'Partly sunny, with a high near 47. West wind around 5 mph.'}, {'number': 3, 'name': 'Wednesday Night', 'startTime': '2024-01-03T18:00:00-05:00', 'endTime': '2024-01-04T06:00:00-05:00', 'isDaytime': False, 'temperature': 35, 'temperatureUnit': 'F', 'temperatureTrend': None, 'probabilityOfPrecipitation': {'unitCode': 'wmoUnit:percent', 'value': 20}, 'dewpoint': {'unitCode': 'wmoUnit:degC', 'value': 0}, 'relativeHumidity': {'unitCode': 'wmoUnit:percent', 'value': 79}, 'windSpeed': '2 mph', 'windDirection': 'NW', 'icon': 'https://api.weather.gov/icons/land/night/ovc/snow,20?size=medium', 'shortForecast': 'Cloudy then Slight Chance Rain And Snow Showers', 'detailedForecast': 'A slight chance of rain and snow showers after 1am. Cloudy, with a low around 35. Northwest wind around 2 mph. Chance of precipitation is 20%.'}, {'number': 4, 'name': 'Thursday', 'startTime': '2024-01-04T06:00:00-05:00', 'endTime': '2024-01-04T18:00:00-05:00', 'isDaytime': True, 'temperature': 45, 'temperatureUnit': 'F', 'temperatureTrend': None, 'probabilityOfPrecipitation': {'unitCode': 'wmoUnit:percent', 'value': 20}, 'dewpoint': {'unitCode': 'wmoUnit:degC', 'value': 0}, 'relativeHumidity': {'unitCode': 'wmoUnit:percent', 'value': 85}, 'windSpeed': '2 to 14 mph', 'windDirection': 'NW', 'icon': 'https://api.weather.gov/icons/land/day/snow,20/bkn?size=medium', 'shortForecast': 'Slight Chance Rain And Snow Showers then Partly Sunny', 'detailedForecast': 'A slight chance of rain and snow showers before 7am. Partly sunny, with a high near 45. Northwest wind 2 to 14 mph, with gusts as high as 25 mph. Chance of precipitation is 20%.'}, {'number': 5, 'name': 'Thursday Night', 'startTime': '2024-01-04T18:00:00-05:00', 'endTime': '2024-01-05T06:00:00-05:00', 'isDaytime': False, 'temperature': 25, 'temperatureUnit': 'F', 'temperatureTrend': None, 'probabilityOfPrecipitation': {'unitCode': 'wmoUnit:percent', 'value': None}, 'dewpoint': {'unitCode': 'wmoUnit:degC', 'value': -6.111111111111111}, 'relativeHumidity': {'unitCode': 'wmoUnit:percent', 'value': 68}, 'windSpeed': '5 to 12 mph', 'windDirection': 'NW', 'icon': 'https://api.weather.gov/icons/land/night/few?size=medium', 'shortForecast': 'Mostly Clear', 'detailedForecast': 'Mostly clear, with a low around 25. Northwest wind 5 to 12 mph, with gusts as high as 23 mph.'}, {'number': 6, 'name': 'Friday', 'startTime': '2024-01-05T06:00:00-05:00', 'endTime': '2024-01-05T18:00:00-05:00', 'isDaytime': True, 'temperature': 41, 'temperatureUnit': 'F', 'temperatureTrend': None, 'probabilityOfPrecipitation': {'unitCode': 'wmoUnit:percent', 'value': None}, 'dewpoint': {'unitCode': 'wmoUnit:degC', 'value': -7.222222222222222}, 'relativeHumidity': {'unitCode': 'wmoUnit:percent', 'value': 71}, 'windSpeed': '7 mph', 'windDirection': 'W', 'icon': 'https://api.weather.gov/icons/land/day/sct?size=medium', 'shortForecast': 'Mostly Sunny', 'detailedForecast': 'Mostly sunny, with a high near 41.'}, {'number': 7, 'name': 'Friday Night', 'startTime': '2024-01-05T18:00:00-05:00', 'endTime': '2024-01-06T06:00:00-05:00', 'isDaytime': False, 'temperature': 28, 'temperatureUnit': 'F', 'temperatureTrend': None, 'probabilityOfPrecipitation': {'unitCode': 'wmoUnit:percent', 'value': None}, 'dewpoint': {'unitCode': 'wmoUnit:degC', 'value': -4.444444444444445}, 'relativeHumidity': {'unitCode': 'wmoUnit:percent', 'value': 78}, 'windSpeed': '7 mph', 'windDirection': 'S', 'icon': 'https://api.weather.gov/icons/land/night/bkn?size=medium', 'shortForecast': 'Mostly Cloudy', 'detailedForecast': 'Mostly cloudy, with a low around 28.'}, {'number': 8, 'name': 'Saturday', 'startTime': '2024-01-06T06:00:00-05:00', 'endTime': '2024-01-06T18:00:00-05:00', 'isDaytime': True, 'temperature': 41, 'temperatureUnit': 'F', 'temperatureTrend': None, 'probabilityOfPrecipitation': {'unitCode': 'wmoUnit:percent', 'value': 100}, 'dewpoint': {'unitCode': 'wmoUnit:degC', 'value': 1.6666666666666667}, 'relativeHumidity': {'unitCode': 'wmoUnit:percent', 'value': 85}, 'windSpeed': '6 to 20 mph', 'windDirection': 'E', 'icon': 'https://api.weather.gov/icons/land/day/snow,50/snow,100?size=medium', 'shortForecast': 'Rain And Snow', 'detailedForecast': 'Rain and snow after 7am. Cloudy, with a high near 41. Chance of precipitation is 100%.'}, {'number': 9, 'name': 'Saturday Night', 'startTime': '2024-01-06T18:00:00-05:00', 'endTime': '2024-01-07T06:00:00-05:00', 'isDaytime': False, 'temperature': 32, 'temperatureUnit': 'F', 'temperatureTrend': None, 'probabilityOfPrecipitation': {'unitCode': 'wmoUnit:percent', 'value': 100}, 'dewpoint': {'unitCode': 'wmoUnit:degC', 'value': 2.2222222222222223}, 'relativeHumidity': {'unitCode': 'wmoUnit:percent', 'value': 100}, 'windSpeed': '15 to 20 mph', 'windDirection': 'N', 'icon': 'https://api.weather.gov/icons/land/night/snow,100/snow,70?size=medium', 'shortForecast': 'Rain And Snow then Rain And Snow Likely', 'detailedForecast': 'Rain and snow before 7pm, then rain and snow likely between 7pm and 1am, then a chance of rain and snow. Mostly cloudy, with a low around 32. Chance of precipitation is 100%.'}, {'number': 10, 'name': 'Sunday', 'startTime': '2024-01-07T06:00:00-05:00', 'endTime': '2024-01-07T18:00:00-05:00', 'isDaytime': True, 'temperature': 42, 'temperatureUnit': 'F', 'temperatureTrend': None, 'probabilityOfPrecipitation': {'unitCode': 'wmoUnit:percent', 'value': 30}, 'dewpoint': {'unitCode': 'wmoUnit:degC', 'value': 1.1111111111111112}, 'relativeHumidity': {'unitCode': 'wmoUnit:percent', 'value': 96}, 'windSpeed': '10 to 14 mph', 'windDirection': 'NW', 'icon': 'https://api.weather.gov/icons/land/day/snow,30/bkn?size=medium', 'shortForecast': 'Chance Rain And Snow then Partly Sunny', 'detailedForecast': 'A chance of rain and snow before 7am. Partly sunny, with a high near 42. Chance of precipitation is 30%.'}, {'number': 11, 'name': 'Sunday Night', 'startTime': '2024-01-07T18:00:00-05:00', 'endTime': '2024-01-08T06:00:00-05:00', 'isDaytime': False, 'temperature': 29, 'temperatureUnit': 'F', 'temperatureTrend': None, 'probabilityOfPrecipitation': {'unitCode': 'wmoUnit:percent', 'value': None}, 'dewpoint': {'unitCode': 'wmoUnit:degC', 'value': 0.5555555555555556}, 'relativeHumidity': {'unitCode': 'wmoUnit:percent', 'value': 92}, 'windSpeed': '10 mph', 'windDirection': 'W', 'icon': 'https://api.weather.gov/icons/land/night/sct?size=medium', 'shortForecast': 'Partly Cloudy', 'detailedForecast': 'Partly cloudy, with a low around 29.'}, {'number': 12, 'name': 'Monday', 'startTime': '2024-01-08T06:00:00-05:00', 'endTime': '2024-01-08T18:00:00-05:00', 'isDaytime': True, 'temperature': 44, 'temperatureUnit': 'F', 'temperatureTrend': None, 'probabilityOfPrecipitation': {'unitCode': 'wmoUnit:percent', 'value': None}, 'dewpoint': {'unitCode': 'wmoUnit:degC', 'value': 0}, 'relativeHumidity': {'unitCode': 'wmoUnit:percent', 'value': 96}, 'windSpeed': '10 mph', 'windDirection': 'NW', 'icon': 'https://api.weather.gov/icons/land/day/sct?size=medium', 'shortForecast': 'Mostly Sunny', 'detailedForecast': 'Mostly sunny, with a high near 44.'}, {'number': 13, 'name': 'Monday Night', 'startTime': '2024-01-08T18:00:00-05:00', 'endTime': '2024-01-09T06:00:00-05:00', 'isDaytime': False, 'temperature': 32, 'temperatureUnit': 'F', 'temperatureTrend': None, 'probabilityOfPrecipitation': {'unitCode': 'wmoUnit:percent', 'value': 30}, 'dewpoint': {'unitCode': 'wmoUnit:degC', 'value': 1.6666666666666667}, 'relativeHumidity': {'unitCode': 'wmoUnit:percent', 'value': 100}, 'windSpeed': '9 mph', 'windDirection': 'E', 'icon': 'https://api.weather.gov/icons/land/night/bkn/snow,30?size=medium', 'shortForecast': 'Mostly Cloudy then Chance Rain And Snow', 'detailedForecast': 'A chance of rain and snow after 1am. Mostly cloudy, with a low around 32. Chance of precipitation is 30%.'}, {'number': 14, 'name': 'Tuesday', 'startTime': '2024-01-09T06:00:00-05:00', 'endTime': '2024-01-09T18:00:00-05:00', 'isDaytime': True, 'temperature': 52, 'temperatureUnit': 'F', 'temperatureTrend': None, 'probabilityOfPrecipitation': {'unitCode': 'wmoUnit:percent', 'value': 90}, 'dewpoint': {'unitCode': 'wmoUnit:degC', 'value': 8.333333333333334}, 'relativeHumidity': {'unitCode': 'wmoUnit:percent', 'value': 100}, 'windSpeed': '9 to 24 mph', 'windDirection': 'E', 'icon': 'https://api.weather.gov/icons/land/day/snow,70/snow,90?size=medium', 'shortForecast': 'Rain And Snow', 'detailedForecast': 'Rain and snow. Cloudy, with a high near 52. Chance of precipitation is 90%.'}]}\n"
     ]
    }
   ],
   "source": [
    "# Initial url testing\n",
    "\n",
    "headers = {'User-Agent': 'Mozilla/5.0 (X11; Ubuntu; Linux x86_64; rv:109.0) Gecko/20100101 Firefox/114.0'}\n",
    "\n",
    "lat = 38.8894\n",
    "lon = -77\n",
    "url = \"https://api.weather.gov/points/{},{}\".format(lat, lon)\n",
    " \n",
    "\n",
    "try:\n",
    "    r = requests.get(url,headers=headers)\n",
    "    data = r.json()\n",
    "    for k,v in data.items():\n",
    "        print(k,v)\n",
    "    url2 = data['properties']['forecast']\n",
    "    \n",
    "    r2 = requests.get(url2,headers=headers)\n",
    "    for k,v in r2.json().items():\n",
    "        print(k,v)\n",
    "except ConnectionError:\n",
    "    print(\"Connection Error\")\n"
   ]
  },
  {
   "cell_type": "markdown",
   "metadata": {},
   "source": [
    "type={all|conv|turb|ice|mtw|sand|trop|ash} - This specifies the type of SIGMET to display. The default is all.  \n",
    "\n",
    ">all - All hazards on plot (Default)  \n",
    "turb-hi - Turbulence above FL180  \n",
    "turb-lo - Turbulence below FL180  \n",
    "llws - Low Level Wind Shear  \n",
    "sfc_wind - High surface winds  \n",
    "ifr - IFR - low ceiliing or visibility  \n",
    "mtn-obs - Mountain obscuration  \n",
    "ice - Icing  \n",
    "frzlvl - Freezing level lines    \n",
    "  \n",
    "level=level - Specifies the level +- 3000' to show. The default is all  \n",
    "bottom=level - Specifies the bottom level to show. The default is sfc  \n",
    "top=level - Specifies the top level to show. The default is undef  \n",
    "format={raw|decoded|json|geojson|xml} - Specifies the format of output as either raw data or decoded output. The default is raw.  \n",
    "date=yyyymmddhhnn - This selects a specific date and time to display. ADDS saves several days of report data so this can be used to get older data. The default is current.  "
   ]
  },
  {
   "cell_type": "code",
   "execution_count": 22,
   "metadata": {},
   "outputs": [
    {
     "name": "stdout",
     "output_type": "stream",
     "text": [
      "ICE\n",
      "ICE\n",
      "ICE\n",
      "FZLVL\n",
      "FZLVL\n",
      "FZLVL\n",
      "FZLVL\n",
      "ICE\n",
      "FZLVL\n",
      "ICE\n",
      "ICE\n",
      "ICE\n",
      "FZLVL\n",
      "FZLVL\n",
      "FZLVL\n",
      "FZLVL\n",
      "FZLVL\n",
      "FZLVL\n",
      "FZLVL\n",
      "FZLVL\n",
      "FZLVL\n",
      "FZLVL\n",
      "FZLVL\n",
      "M_FZLVL\n",
      "M_FZLVL\n",
      "M_FZLVL\n",
      "M_FZLVL\n",
      "M_FZLVL\n",
      "M_FZLVL\n",
      "M_FZLVL\n",
      "FZLVL\n",
      "FZLVL\n",
      "M_FZLVL\n",
      "M_FZLVL\n",
      "M_FZLVL\n",
      "M_FZLVL\n",
      "M_FZLVL\n",
      "M_FZLVL\n",
      "M_FZLVL\n",
      "TURB-HI\n",
      "TURB-HI\n",
      "TURB-HI\n",
      "SFC_WND\n",
      "SFC_WND\n",
      "TURB-HI\n",
      "TURB-HI\n",
      "LLWS\n",
      "TURB-HI\n",
      "TURB-HI\n",
      "TURB-HI\n",
      "TURB-LO\n",
      "TURB-LO\n",
      "TURB-LO\n",
      "SFC_WND\n",
      "SFC_WND\n",
      "LLWS\n",
      "IFR\n",
      "IFR\n",
      "IFR\n",
      "IFR\n",
      "MT_OBSC\n",
      "MT_OBSC\n",
      "MT_OBSC\n",
      "IFR\n",
      "MT_OBSC\n",
      "MT_OBSC\n",
      "MT_OBSC\n"
     ]
    }
   ],
   "source": [
    "import requests\n",
    "from datetime import datetime\n",
    "\n",
    "# Base URL for the API\n",
    "base_url = \"https://aviationweather.gov/api/data/gairmet\"\n",
    "\n",
    "# Define your parameters\n",
    "params = {\n",
    "    'type': 'turb',  # Example: 'all', 'turb', 'ice', etc.\n",
    "    'level': 'all',   # Example altitude level\n",
    "    'format': 'json',   # Output format\n",
    "    'date': datetime.now().strftime(\"%Y%m%d%H%M\")  # Current date and time\n",
    "}\n",
    "\n",
    "# Make the GET request\n",
    "response = requests.get(base_url, params=params)\n",
    "\n",
    "# Check if the request was successful\n",
    "if response.status_code == 200:\n",
    "    try:\n",
    "        data = response.json()\n",
    "        # Process the data as needed\n",
    "        for region in data:\n",
    "            print(region['hazard'])\n",
    "        #print(data)  # For debugging\n",
    "    except ValueError:\n",
    "        print(\"Invalid JSON response\")\n",
    "else:\n",
    "    print(\"Failed to retrieve data:\", response.status_code, response.text)\n"
   ]
  },
  {
   "cell_type": "code",
   "execution_count": 16,
   "metadata": {},
   "outputs": [
    {
     "name": "stdout",
     "output_type": "stream",
     "text": [
      "Requesting URL: https://aviationweather.gov/api/data/gairmet?type=turb-hi&level=FL300&format=json&date=202401021947\n",
      "Empty response. No data available for these parameters.\n"
     ]
    }
   ],
   "source": []
  },
  {
   "cell_type": "code",
   "execution_count": 24,
   "metadata": {},
   "outputs": [
    {
     "name": "stdout",
     "output_type": "stream",
     "text": [
      "{'isigmetId': 624238, 'icaoId': 'TFFF', 'firId': 'SOOO', 'firName': 'SOOO CAYENNE', 'receiptTime': '2024-01-02 17:39:13', 'validTimeFrom': 1704216900, 'validTimeTo': 1704231000, 'seriesId': '04', 'hazard': 'TURB', 'qualifier': 'SEV', 'base': 15000, 'top': 19500, 'geom': 'AREA', 'coords': [{'lat': 4, 'lon': -51.75}, {'lat': 4.25, 'lon': -54.25}, {'lat': 7.25, 'lon': -52.25}, {'lat': 8, 'lon': -46.75}, {'lat': 6.75, 'lon': -46.75}, {'lat': 4.75, 'lon': -49.75}, {'lat': 4.5, 'lon': -51.25}, {'lat': 4.5, 'lon': -51.5}, {'lat': 4, 'lon': -51.75}], 'dir': '-', 'spd': 0, 'chng': 'NC', 'rawSigmet': 'WSFG20 TFFF 021738\\nSOOO SIGMET 04 VALID 021735/022130 TFFF-\\nSOOO CAYENNE FIR/UIR SEV TURB FCST WI N0400 W05145 - N0415 W05415 -\\nN0715 W05215 - N0800 W04645 - N0645 W04645 - N0445 W04945 - N0430\\nW05115 - N0430 W05130 - N0400 W05145 FL150/195 STNR NC='}\n",
      "{'isigmetId': 624221, 'icaoId': 'FAOR', 'firId': 'FAJO', 'firName': 'FAJO JOHANNESBURG OCEANIC', 'receiptTime': '2024-01-02 17:22:50', 'validTimeFrom': 1704218400, 'validTimeTo': 1704232800, 'seriesId': 'F01', 'hazard': 'TURB', 'qualifier': 'SEV', 'base': 34000, 'top': 39000, 'geom': 'AREA', 'coords': [{'lat': -43.383, 'lon': 53.45}, {'lat': -44.517, 'lon': 57}, {'lat': -45, 'lon': 57}, {'lat': -45, 'lon': 58.45}, {'lat': -45.233, 'lon': 59.2}, {'lat': -52.367, 'lon': 50.733}, {'lat': -48.683, 'lon': 45.683}], 'dir': None, 'spd': None, 'chng': None, 'rawSigmet': 'WSZA21 FAOR 021723\\nFAJO SIGMET F01 VALID 021800/022200 FAOR-\\nFAJO JOHANNESBURG OCEANIC FIR SEV TURB FCST WI\\nS4323 E05327 - S4431 E05700 - S4500 E05700 - S4500 E05827 -\\nS4514 E05912 - S5222 E05044 - S4841 E04541 FL340/390='}\n",
      "{'isigmetId': 624222, 'icaoId': 'FAOR', 'firId': 'FAJO', 'firName': 'FAJO JOHANNESBURG OCEANIC', 'receiptTime': '2024-01-02 17:23:52', 'validTimeFrom': 1704218400, 'validTimeTo': 1704232800, 'seriesId': 'G01', 'hazard': 'TURB', 'qualifier': 'SEV', 'base': 34000, 'top': 45000, 'geom': 'AREA', 'coords': [{'lat': -32.2, 'lon': -5.1}, {'lat': -37.417, 'lon': -1.417}, {'lat': -40.067, 'lon': -6.55}, {'lat': -36.967, 'lon': -10}, {'lat': -32.7, 'lon': -10}, {'lat': -32.2, 'lon': -5.1}], 'dir': None, 'spd': None, 'chng': None, 'rawSigmet': 'WSZA21 FAOR 021724\\nFAJO SIGMET G01 VALID 021800/022200 FAOR-\\nFAJO JOHANNESBURG OCEANIC FIR SEV TURB FCST WI\\nS3212 W00506 - S3725 W00125 - S4004 W00633 - S3658 W01000 -\\nS3242 W01000 - S3212 W00506 FL340/450='}\n",
      "{'isigmetId': 624236, 'icaoId': 'ZSSS', 'firId': 'ZSHA', 'firName': 'ZSHA SHANGHAI', 'receiptTime': '2024-01-02 17:37:31', 'validTimeFrom': 1704218400, 'validTimeTo': 1704232800, 'seriesId': '5', 'hazard': 'TURB', 'qualifier': 'SEV', 'base': 6000, 'top': 27000, 'geom': 'AREA', 'coords': [{'lat': 32, 'lon': 123.983}, {'lat': 30, 'lon': 124.001}, {'lat': 29, 'lon': 124}, {'lat': 27.458, 'lon': 122.345}, {'lat': 25.058, 'lon': 120.042}, {'lat': 23.015, 'lon': 117.491}, {'lat': 23.484, 'lon': 117.481}, {'lat': 23.676, 'lon': 117.097}, {'lat': 24.369, 'lon': 116.688}, {'lat': 24.686, 'lon': 115.407}, {'lat': 25.105, 'lon': 115.409}, {'lat': 25.759, 'lon': 114.905}, {'lat': 26.034, 'lon': 114.132}, {'lat': 26.703, 'lon': 113.96}, {'lat': 29.064, 'lon': 114.566}, {'lat': 30.098, 'lon': 115.923}, {'lat': 32, 'lon': 115.836}, {'lat': 32, 'lon': 123.983}], 'dir': 'E', 'spd': 11, 'chng': 'NC', 'rawSigmet': 'WSCI34 ZSSS 021735\\nZSHA SIGMET 5 VALID 021800/022200 ZSSS-\\nZSHA SHANGHAI FIR SEV TURB FCST\\nS OF N32 FL060/270\\nMOV E 20KMH NC='}\n",
      "{'isigmetId': 624251, 'icaoId': 'LSSW', 'firId': 'LSAS', 'firName': 'LSAS SWITZERLAND', 'receiptTime': '2024-01-02 17:57:40', 'validTimeFrom': 1704218400, 'validTimeTo': 1704232800, 'seriesId': 'U02', 'hazard': 'TURB', 'qualifier': 'SEV', 'base': 0, 'top': 6000, 'geom': 'AREA', 'coords': [{'lat': 47.95, 'lon': 9}, {'lat': 47.717, 'lon': 9.383}, {'lat': 47.55, 'lon': 8.317}, {'lat': 46.55, 'lon': 6.067}, {'lat': 47.367, 'lon': 6.783}, {'lat': 47.467, 'lon': 6.917}, {'lat': 47.95, 'lon': 9}], 'dir': '-', 'spd': 0, 'chng': 'WKN', 'rawSigmet': 'WSSW31 LSSW 021757\\nLSAS SIGMET U02 VALID 021800/022200 LSZH-\\nLSAS SWITZERLAND FIR/UIR SEV TURB FCST AT 1800Z WI N4757 E00900 -\\nN4743 E00923 - N4733 E00819 - N4633 E00604 - N4722 E00647 - N4728\\nE00655 - N4757 E00900 SFC/FL060 STNR WKN='}\n",
      "{'isigmetId': 624261, 'icaoId': 'EDZF', 'firId': 'EDMM', 'firName': 'EDMM MUENCHEN', 'receiptTime': '2024-01-02 18:27:56', 'validTimeFrom': 1704220020, 'validTimeTo': 1704232800, 'seriesId': 'U04', 'hazard': 'TURB', 'qualifier': 'SEV', 'base': None, 'top': None, 'geom': 'AREA', 'coords': [{'lat': 50.3, 'lon': 11.933}, {'lat': 51.067, 'lon': 13.333}, {'lat': 53.017, 'lon': 7.267}, {'lat': 51.917, 'lon': 6.583}, {'lat': 51.817, 'lon': 6.017}, {'lat': 49.517, 'lon': 6.383}, {'lat': 49, 'lon': 8.15}, {'lat': 48.083, 'lon': 7.717}, {'lat': 47.8, 'lon': 9.833}, {'lat': 48.117, 'lon': 12.633}, {'lat': 48.683, 'lon': 13.817}, {'lat': 50.3, 'lon': 11.933}], 'dir': None, 'spd': None, 'chng': None, 'rawSigmet': 'WSDL33 EDZF 021827\\nEDMM SIGMET U04 VALID 021827/022200 EDZF-\\nEDMM MUENCHEN FIR SEV TURB FCST AT 1827Z WI N4747 E00914 - N4844\\nE00938 - N4927 E01057 - N5013 E01017 - N5045 E01018 - N4951 E01216 -\\nN4834 E01343 - N4759 E01144 - N4747 E00915 - N4747 E00914 SFC/FL060\\nNC FCST AT 2200Z WI N5018 E01156 - N5104 E01320 - N5301 E00716 -\\nN5155 E00635 - N5149 E00601 - N4931 E00623 - N4900 E00809 - N4805\\nE00743 - N4748 E00950 - N4807 E01238 - N4841 E01349 - N5018 E01156='}\n",
      "{'isigmetId': 624262, 'icaoId': 'EDZF', 'firId': 'EDGG', 'firName': 'EDGG LANGEN', 'receiptTime': '2024-01-02 18:27:56', 'validTimeFrom': 1704220020, 'validTimeTo': 1704232800, 'seriesId': 'U05', 'hazard': 'TURB', 'qualifier': 'SEV', 'base': None, 'top': None, 'geom': 'AREA', 'coords': [{'lat': 50.3, 'lon': 11.933}, {'lat': 51.067, 'lon': 13.333}, {'lat': 53.017, 'lon': 7.267}, {'lat': 51.917, 'lon': 6.583}, {'lat': 51.817, 'lon': 6.017}, {'lat': 49.517, 'lon': 6.383}, {'lat': 49, 'lon': 8.15}, {'lat': 48.083, 'lon': 7.717}, {'lat': 47.8, 'lon': 9.833}, {'lat': 48.117, 'lon': 12.633}, {'lat': 48.683, 'lon': 13.817}, {'lat': 50.3, 'lon': 11.933}], 'dir': None, 'spd': None, 'chng': None, 'rawSigmet': 'WSDL31 EDZF 021827\\nEDGG SIGMET U05 VALID 021827/022200 EDZF-\\nEDGG LANGEN FIR SEV TURB FCST AT 1827Z WI N5033 E01044 - N4924 E01059\\n- N4838 E00940 - N4749 E00933 - N4747 E00915 - N4735 E00732 - N4900\\nE00810 - N4930 E00622 - N5149 E00558 - N5202 E00723 - N5033 E01044\\nSFC/FL060 NC FCST AT 2200Z WI N5018 E01156 - N5104 E01320 - N5301\\nE00716 - N5155 E00635 - N5149 E00601 - N4931 E00623 - N4900 E00809 -\\nN4805 E00743 - N4748 E00950 - N4807 E01238 - N4841 E01349 - N5018\\nE01156='}\n",
      "{'isigmetId': 624268, 'icaoId': 'EGRR', 'firId': 'EGTT', 'firName': 'EGTT LONDON', 'receiptTime': '2024-01-02 18:49:46', 'validTimeFrom': 1704222000, 'validTimeTo': 1704232800, 'seriesId': '04', 'hazard': 'TURB', 'qualifier': 'SEV', 'base': 0, 'top': 4000, 'geom': 'AREA', 'coords': [{'lat': 53.292, 'lon': 3.489}, {'lat': 51.498, 'lon': 1.987}, {'lat': 51.107, 'lon': 1.991}, {'lat': 50.99, 'lon': 1.431}, {'lat': 50.682, 'lon': 1.473}, {'lat': 49.991, 'lon': -0.244}, {'lat': 49.992, 'lon': -0.6}, {'lat': 50, 'lon': -0.6}, {'lat': 52.767, 'lon': 0.567}, {'lat': 53.292, 'lon': 3.489}], 'dir': 'ENE', 'spd': 30, 'chng': 'NC', 'rawSigmet': 'WSUK31 EGRR 021848\\nEGTT SIGMET 04 VALID 021900/022200 EGRR-\\nEGTT LONDON FIR SEV TURB FCST SE OF LINE N5000 W00036 - N5246 E00034\\n- N5318 E00332 SFC/FL040 MOV ENE 30KT NC='}\n",
      "{'isigmetId': 624315, 'icaoId': 'LFPW', 'firId': 'LFFF', 'firName': 'LFFF PARIS', 'receiptTime': '2024-01-02 19:49:57', 'validTimeFrom': 1704225600, 'validTimeTo': 1704232800, 'seriesId': '06', 'hazard': 'TURB', 'qualifier': 'SEV', 'base': 0, 'top': 6000, 'geom': 'AREA', 'coords': [{'lat': 51.107, 'lon': 1.987}, {'lat': 51.088, 'lon': 2.553}, {'lat': 50.707, 'lon': 2.838}, {'lat': 50.779, 'lon': 3.17}, {'lat': 50.342, 'lon': 3.739}, {'lat': 50.264, 'lon': 4.22}, {'lat': 49.962, 'lon': 4.18}, {'lat': 50.152, 'lon': 4.887}, {'lat': 49.906, 'lon': 4.859}, {'lat': 49.906, 'lon': 4.859}], 'dir': '-', 'spd': 0, 'chng': 'NC', 'rawSigmet': 'WSFR31 LFPW 021949\\nLFFF SIGMET 06 VALID 022000/022200 LFPW-\\nLFFF PARIS FIR/UIR SEV TURB FCST SE OF LINE N5000 E00500 - N4900\\nE00330 AND NE OF LINE N4900 E00330 - N4815 E00530 SFC/FL060 STNR NC='}\n",
      "{'isigmetId': 624335, 'icaoId': 'LIIB', 'firId': 'LIMM', 'firName': 'LIMM MILANO', 'receiptTime': '2024-01-02 20:49:32', 'validTimeFrom': 1704228600, 'validTimeTo': 1704235800, 'seriesId': '1', 'hazard': 'TURB', 'qualifier': 'SEV', 'base': 25000, 'top': 30000, 'geom': 'AREA', 'coords': [{'lat': 45.583, 'lon': 10.567}, {'lat': 46.5, 'lon': 10.567}, {'lat': 46.5, 'lon': 11.883}, {'lat': 45.583, 'lon': 11.883}, {'lat': 45.583, 'lon': 10.567}], 'dir': '-', 'spd': 0, 'chng': 'NC', 'rawSigmet': 'WSIY31 LIIB 022050\\nLIMM SIGMET 1 VALID 022050/022250 LIIB-\\nLIMM MILANO FIR SEV TURB OBS AT 1955Z FL270 WI N4535 E01034 - N4630\\nE01034 - N4630 E01153 - N4535 E01153 - N4535 E01034 FL250/300 STNR\\nNC='}\n",
      "{'isigmetId': 624263, 'icaoId': 'EBBR', 'firId': 'EBBU', 'firName': 'EBBU BRUSSELS', 'receiptTime': '2024-01-02 18:31:16', 'validTimeFrom': 1704222000, 'validTimeTo': 1704236400, 'seriesId': 'U05', 'hazard': 'TURB', 'qualifier': 'SEV', 'base': 0, 'top': 5000, 'geom': 'AREA', 'coords': [{'lat': 51.498, 'lon': 1.987}, {'lat': 51.376, 'lon': 3.359}, {'lat': 51.201, 'lon': 3.95}, {'lat': 51.504, 'lon': 4.766}, {'lat': 51.15, 'lon': 5.851}, {'lat': 50.847, 'lon': 5.63}, {'lat': 50.746, 'lon': 6.006}, {'lat': 50.437, 'lon': 6.376}, {'lat': 50.041, 'lon': 6.128}, {'lat': 49.801, 'lon': 6.517}, {'lat': 49.452, 'lon': 6.358}, {'lat': 49.445, 'lon': 5.99}, {'lat': 49.794, 'lon': 4.846}, {'lat': 50.152, 'lon': 4.887}, {'lat': 49.962, 'lon': 4.18}, {'lat': 50.264, 'lon': 4.22}, {'lat': 50.342, 'lon': 3.735}, {'lat': 50.779, 'lon': 3.17}, {'lat': 50.707, 'lon': 2.838}, {'lat': 51.088, 'lon': 2.553}, {'lat': 51.107, 'lon': 1.991}, {'lat': 51.498, 'lon': 1.987}], 'dir': 'N', 'spd': 0, 'chng': 'NC', 'rawSigmet': 'WSBX31 EBBR 021829\\nEBBU SIGMET U05 VALID 021900/022300 EBBR-\\nEBBU BRUSSELS FIR SEV TURB FCST ENTIRE FIR SFC/FL050 MOV N NC ='}\n",
      "{'isigmetId': 624272, 'icaoId': 'EGRR', 'firId': 'EGPX', 'firName': 'EGPX SCOTTISH', 'receiptTime': '2024-01-02 18:55:45', 'validTimeFrom': 1704222000, 'validTimeTo': 1704236400, 'seriesId': '01', 'hazard': 'TURB', 'qualifier': 'SEV', 'base': 0, 'top': 4000, 'geom': 'AREA', 'coords': [{'lat': 57, 'lon': 5}, {'lat': 56.9, 'lon': 5}, {'lat': 58.167, 'lon': -2.633}, {'lat': 59.267, 'lon': -4.867}, {'lat': 60.333, 'lon': -3.833}, {'lat': 59.5, 'lon': 0.833}, {'lat': 57, 'lon': 5}], 'dir': '-', 'spd': 0, 'chng': 'NC', 'rawSigmet': 'WSUK33 EGRR 021854\\nEGPX SIGMET 01 VALID 021900/022300 EGRR-\\nEGPX SCOTTISH FIR SEV TURB FCST WI N5700 E00500 - N5654 E00500 -\\nN5810 W00238 - N5916 W00452 - N6020 W00350 - N5930 E00050 - N5700\\nE00500 SFC/FL040 STNR NC='}\n",
      "{'isigmetId': 624305, 'icaoId': 'SBGL', 'firId': 'SBAO', 'firName': 'SBAO ATLANTICO', 'receiptTime': '2024-01-02 19:13:51', 'validTimeFrom': 1704222900, 'validTimeTo': 1704237300, 'seriesId': '16', 'hazard': 'TURB', 'qualifier': 'SEV', 'base': 29000, 'top': 40000, 'geom': 'AREA', 'coords': [{'lat': -25.083, 'lon': -41.6}, {'lat': -31.35, 'lon': -27.267}, {'lat': -26.667, 'lon': -21.45}, {'lat': -19.933, 'lon': -36.95}, {'lat': -21.45, 'lon': -39.117}, {'lat': -22.433, 'lon': -38.15}, {'lat': -25.083, 'lon': -41.6}], 'dir': '-', 'spd': 0, 'chng': 'NC', 'rawSigmet': 'WSBZ23 SBGL 021910\\nSBAO SIGMET 16 VALID 021915/022315 SBAO - SBAO ATLANTICO FIR SEV TURB FCST WI S2505 W04136 - S3121 W02716 - S2640 W02127 - S1956 W03657 - S2127 W03907 - S2226 W03809 - S2505 W04136 FL290/400 STNR NC='}\n",
      "{'isigmetId': 624314, 'icaoId': 'LFPW', 'firId': 'LFEE', 'firName': 'LFEE REIMS', 'receiptTime': '2024-01-02 19:49:48', 'validTimeFrom': 1704225600, 'validTimeTo': 1704240000, 'seriesId': '09', 'hazard': 'TURB', 'qualifier': 'SEV', 'base': 0, 'top': 6000, 'geom': 'AREA', 'coords': [{'lat': 46.5, 'lon': 5.75}, {'lat': 48, 'lon': 6.25}, {'lat': 48.25, 'lon': 5.5}, {'lat': 48.5, 'lon': 5.5}, {'lat': 49, 'lon': 4.75}, {'lat': 49.5, 'lon': 6}, {'lat': 49, 'lon': 7.75}, {'lat': 47, 'lon': 7}, {'lat': 46.5, 'lon': 6.25}, {'lat': 46.5, 'lon': 5.75}], 'dir': '-', 'spd': 0, 'chng': 'NC', 'rawSigmet': 'WSFR33 LFPW 021949\\nLFEE SIGMET 09 VALID 022000/030000 LFPW-\\nLFEE REIMS FIR/UIR SEV TURB FCST WI N4630 E00545 - N4800 E00615 -\\nN4815 E00530 - N4830 E00530 - N4900 E00445 - N4930 E00600 - N4900\\nE00745 - N4700 E00700 - N4630 E00615 - N4630 E00545 SFC/FL060 STNR NC\\n='}\n",
      "{'isigmetId': 624316, 'icaoId': 'LFPW', 'firId': 'LFMM', 'firName': 'LFMM MARSEILLE', 'receiptTime': '2024-01-02 19:49:58', 'validTimeFrom': 1704225600, 'validTimeTo': 1704240000, 'seriesId': '06', 'hazard': 'TURB', 'qualifier': 'SEV', 'base': 0, 'top': 6000, 'geom': 'AREA', 'coords': [{'lat': 46, 'lon': 5.5}, {'lat': 46.5, 'lon': 5.75}, {'lat': 46.5, 'lon': 6.75}, {'lat': 46, 'lon': 5.5}], 'dir': '-', 'spd': 0, 'chng': 'NC', 'rawSigmet': 'WSFR34 LFPW 021949\\nLFMM SIGMET 06 VALID 022000/030000 LFPW-\\nLFMM MARSEILLE FIR/UIR SEV TURB FCST WI N4600 E00530 - N4630 E00545 -\\n N4630 E00645 - N4600 E00530 SFC/FL060 STNR NC='}\n",
      "{'isigmetId': 624317, 'icaoId': 'LFPW', 'firId': 'LFFF', 'firName': 'LFFF PARIS', 'receiptTime': '2024-01-02 19:56:52', 'validTimeFrom': 1704225600, 'validTimeTo': 1704240000, 'seriesId': '07', 'hazard': 'TURB', 'qualifier': 'SEV', 'base': 0, 'top': 3000, 'geom': 'AREA', 'coords': [{'lat': 49.75, 'lon': 3}, {'lat': 49.75, 'lon': 1.25}, {'lat': 51, 'lon': 1.5}, {'lat': 51, 'lon': 2.75}, {'lat': 50.5, 'lon': 3.5}, {'lat': 49.75, 'lon': 3}], 'dir': '-', 'spd': 0, 'chng': 'WKN', 'rawSigmet': 'WSFR31 LFPW 021956\\nLFFF SIGMET 07 VALID 022000/030000 LFPW-\\nLFFF PARIS FIR/UIR SEV TURB FCST WI N4945 E00300 - N4945 E00115 -\\nN5100 E00130 - N5100 E00245 - N5030 E00330 - N4945 E00300 SFC/FL030\\nSTNR WKN='}\n",
      "{'isigmetId': 624320, 'icaoId': 'HECA', 'firId': 'HECC', 'firName': 'HECC CAIRO', 'receiptTime': '2024-01-02 20:02:51', 'validTimeFrom': 1704229200, 'validTimeTo': 1704240000, 'seriesId': '01', 'hazard': 'TURB', 'qualifier': 'SEV', 'base': 30000, 'top': 42000, 'geom': 'AREA', 'coords': [{'lat': 28.083, 'lon': 34.567}, {'lat': 25.417, 'lon': 36.083}, {'lat': 24.083, 'lon': 31}, {'lat': 23.5, 'lon': 25}, {'lat': 28.083, 'lon': 25}, {'lat': 28.083, 'lon': 34.567}], 'dir': 'E', 'spd': 13, 'chng': 'NC', 'rawSigmet': 'WSEG31 HECA 022000\\nHECC SIGMET 01 VALID 022100/022400 HECA-\\nHECC CAIRO FIR SEV TURB FCST WI N2805 E03434 - N2525 E03605 -\\nN2405 E03100 - N2330 E02500 - N2805 E02500 - N2805 E03434 FL300/420\\nMOV E 25KMH NC='}\n",
      "{'isigmetId': 624334, 'icaoId': 'RUMG', 'firId': 'UHMM', 'firName': 'UHMM MAGADAN', 'receiptTime': '2024-01-02 20:42:52', 'validTimeFrom': 1704228300, 'validTimeTo': 1704240000, 'seriesId': 'M07', 'hazard': 'TURB', 'qualifier': 'SEV', 'base': 0, 'top': 15000, 'geom': 'AREA', 'coords': [{'lat': 72.383, 'lon': -176}, {'lat': 72, 'lon': -168.967}, {'lat': 65, 'lon': -168.967}, {'lat': 64.05, 'lon': -172.2}, {'lat': 65, 'lon': -180}, {'lat': 72.383, 'lon': -176}], 'dir': '-', 'spd': 0, 'chng': 'NC', 'rawSigmet': 'WSRA31 RUMG 022042\\nUHMM SIGMET M07 VALID 022045/030000 UHMM-\\nUHMM MAGADAN FIR SEV TURB FCST WI N7223 W17600 - N7200 W16858 -\\nN6500 W16858 - N6403 W17212 - N6500 E18000 - N7223 W17600\\nSFC/FL150 STNR NC='}\n",
      "{'isigmetId': 624340, 'icaoId': 'EHDB', 'firId': 'EHAA', 'firName': 'EHAA AMSTERDAM', 'receiptTime': '2024-01-02 20:57:08', 'validTimeFrom': 1704229200, 'validTimeTo': 1704240000, 'seriesId': '2', 'hazard': 'TURB', 'qualifier': 'SEV', 'base': 0, 'top': 5000, 'geom': 'AREA', 'coords': [{'lat': 53.083, 'lon': 3.117}, {'lat': 52.967, 'lon': 7.3}, {'lat': 50.667, 'lon': 6.033}, {'lat': 51.483, 'lon': 2}, {'lat': 53.083, 'lon': 3.117}], 'dir': 'NE', 'spd': 10, 'chng': 'NC', 'rawSigmet': 'WSNL31 EHDB 022056\\nEHAA SIGMET 2 VALID 022100/030000 EHDB-\\nEHAA AMSTERDAM FIR SEV TURB FCST WI N5305 E00307 - N5258 E00718 -\\nN5040 E00602 - N5129 E00200 - N5305 E00307 SFC/FL050 MOV NE 10KT NC='}\n"
     ]
    }
   ],
   "source": [
    "import requests\n",
    "from datetime import datetime\n",
    "\n",
    "# Base URL for the API\n",
    "base_url = \"https://aviationweather.gov/api/data/isigmet\"\n",
    "\n",
    "# Define your parameters\n",
    "params = {\n",
    "    'loc': 'all ',  # Example: asia, aust, afr, eur, namer, samer, pac\n",
    "    'hazard': 'turb',\n",
    "    'level': 'all',   # Example altitude level\n",
    "    'format': 'json',   # Output format\n",
    "    'date': datetime.now().strftime(\"%Y%m%d%H%M\")  # Current date and time\n",
    "}\n",
    "\n",
    "# Make the GET request\n",
    "response = requests.get(base_url, params=params)\n",
    "\n",
    "# Check if the request was successful\n",
    "if response.status_code == 200:\n",
    "    try:\n",
    "        data = response.json()\n",
    "        # Process the data as needed\n",
    "        for region in data:\n",
    "            print(region)\n",
    "        #print(data)  # For debugging\n",
    "    except ValueError:\n",
    "        print(\"Invalid JSON response\")\n",
    "else:\n",
    "    print(\"Failed to retrieve data:\", response.status_code, response.text)\n"
   ]
  }
 ],
 "metadata": {
  "kernelspec": {
   "display_name": "Python 3",
   "language": "python",
   "name": "python3"
  },
  "language_info": {
   "codemirror_mode": {
    "name": "ipython",
    "version": 3
   },
   "file_extension": ".py",
   "mimetype": "text/x-python",
   "name": "python",
   "nbconvert_exporter": "python",
   "pygments_lexer": "ipython3",
   "version": "3.11.7"
  }
 },
 "nbformat": 4,
 "nbformat_minor": 2
}
